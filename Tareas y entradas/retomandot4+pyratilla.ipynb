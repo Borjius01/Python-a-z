{
  "nbformat": 4,
  "nbformat_minor": 0,
  "metadata": {
    "colab": {
      "provenance": [],
      "authorship_tag": "ABX9TyMNA1OCSwlpIm3mdFs5Mxde",
      "include_colab_link": true
    },
    "kernelspec": {
      "name": "python3",
      "display_name": "Python 3"
    },
    "language_info": {
      "name": "python"
    }
  },
  "cells": [
    {
      "cell_type": "markdown",
      "metadata": {
        "id": "view-in-github",
        "colab_type": "text"
      },
      "source": [
        "<a href=\"https://colab.research.google.com/github/Borjius01/Python-a-z/blob/main/retomandot4%2Bpyratilla.ipynb\" target=\"_parent\"><img src=\"https://colab.research.google.com/assets/colab-badge.svg\" alt=\"Open In Colab\"/></a>"
      ]
    },
    {
      "cell_type": "code",
      "execution_count": null,
      "metadata": {
        "id": "N60unOREpcbp",
        "colab": {
          "base_uri": "https://localhost:8080/"
        },
        "outputId": "1d63a1c3-ce46-4d11-fa80-f8ac1eb774ed"
      },
      "outputs": [
        {
          "output_type": "stream",
          "name": "stdout",
          "text": [
            "Enter a number: 8\n",
            "Positive number\n"
          ]
        }
      ],
      "source": [
        "num = int(input(\"Enter a number: \"))\n",
        "if num == 0:\n",
        "  print(\"Zero\")\n",
        "elif num > 0:\n",
        "  print(\"Positive number\")\n",
        "else:\n",
        "  print(\"Negative number\")\n"
      ]
    },
    {
      "cell_type": "code",
      "source": [
        "nombre = input(\"Ingrese su nombre: \")\n",
        "  if len(nombre) >= 10:\n",
        "    print(\"Su nombre tiene mas de 10 carácteres\")\n",
        "  else:\n",
        "    print(\"Su nombre es corto\")"
      ],
      "metadata": {
        "colab": {
          "base_uri": "https://localhost:8080/"
        },
        "id": "_LScdS5dC37j",
        "outputId": "2fb595d8-9ead-4cc6-f4db-0a974864f1d1"
      },
      "execution_count": null,
      "outputs": [
        {
          "output_type": "stream",
          "name": "stdout",
          "text": [
            "Ingrese su nombre: Pedro\n",
            "Su nombre es corto\n"
          ]
        }
      ]
    },
    {
      "cell_type": "code",
      "source": [
        "name = input(\"Ingrese su nombre: \")\n",
        "print(\"Su nombre tiene mas de 10 carácteres\") if len(name) >= 10  else print(\"Su nombre es corto\")"
      ],
      "metadata": {
        "colab": {
          "base_uri": "https://localhost:8080/"
        },
        "id": "b9xw5xycD2oX",
        "outputId": "e67cff2d-4f9a-46c5-9f2a-add9f9470750"
      },
      "execution_count": null,
      "outputs": [
        {
          "output_type": "stream",
          "name": "stdout",
          "text": [
            "Ingrese su nombre: pili\n",
            "Su nombre es corto\n"
          ]
        }
      ]
    },
    {
      "cell_type": "code",
      "source": [
        "x = int(input(\"Ingrese un número entero positivo: \"))\n",
        "y = int(input(\"Ingrese otro número entero positivo: \"))\n",
        "if x >= y:\n",
        "  print(\"El número\", x, \"es mayor o igual que\", y,\".\")\n",
        "else:\n",
        "  print(\"El número\", x, \"es menor que\", y)"
      ],
      "metadata": {
        "colab": {
          "base_uri": "https://localhost:8080/"
        },
        "id": "H3p7hr7NEiHw",
        "outputId": "6f208bc3-3a72-4448-ad29-ad458ded65af"
      },
      "execution_count": null,
      "outputs": [
        {
          "output_type": "stream",
          "name": "stdout",
          "text": [
            "Ingrese un número entero positivo: 8\n",
            "Ingrese otro número entero positivo: 3\n",
            "El número 8 es mayor o igual que 3 .\n"
          ]
        }
      ]
    },
    {
      "cell_type": "code",
      "source": [
        "x = int(input(\"Introduce un número entero positivo: \"))\n",
        "y = int(input(\"Introduce otro número entero positivo: \"))\n",
        "\n",
        "if x >= y and x % y == 0:\n",
        "    print(\"La división es exacta. El cociente es\", x // y)\n",
        "elif x >=y and x % y != 0:\n",
        "    print(\"La división no es exacta. El cociente es\", x // y,\" y el resto es\", x % y, \".\")\n"
      ],
      "metadata": {
        "colab": {
          "base_uri": "https://localhost:8080/"
        },
        "id": "ECwnThQLF8Wt",
        "outputId": "05e74725-5ca2-453c-e530-870152d53c31"
      },
      "execution_count": null,
      "outputs": [
        {
          "output_type": "stream",
          "name": "stdout",
          "text": [
            "Introduce un número entero positivo: 8\n",
            "Introduce otro número entero positivo: 6\n",
            "La división no es exacta. El cociente es 1  y el resto es 2 .\n"
          ]
        }
      ]
    },
    {
      "cell_type": "code",
      "source": [
        "x = int(input(\"Introduce un número entero positivo: \"))\n",
        "y = int(input(\"Introduce otro número entero positivo: \"))\n",
        "if x >= y:\n",
        "  print(\"El número\", x, \"es mayor o igual que\", y,\".\")\n",
        "  if x >= y and x % y == 0:\n",
        "    print(\"La división es exacta. El cociente es\", x // y)\n",
        "  elif x >=y and x % y != 0:\n",
        "    print(\"La división no es exacta. El cociente es\", x // y,\" y el resto es\", x % y, \".\")\n",
        "else:\n",
        "  print(\"El número\", x, \"es menor que\", y,\".\")"
      ],
      "metadata": {
        "colab": {
          "base_uri": "https://localhost:8080/"
        },
        "id": "QY3mtU6XGMJl",
        "outputId": "57ce80d8-1a11-43bf-bd4b-ef1e5429d1f5"
      },
      "execution_count": null,
      "outputs": [
        {
          "output_type": "stream",
          "name": "stdout",
          "text": [
            "Introduce un número entero positivo: 8\n",
            "Introduce otro número entero positivo: 4\n",
            "El número 8 es mayor o igual que 4 .\n",
            "La división es exacta. El cociente es 2\n"
          ]
        }
      ]
    },
    {
      "cell_type": "code",
      "source": [
        "print(\"Introduce dos numeros enteros positivos\")\n",
        "x = int(input(\"Introduce un número entero positivo: \"))\n",
        "y = int(input(\"Introduce otro número entero positivo: \"))\n",
        "\n",
        "if x >= y:\n",
        "  if x % y == 0:\n",
        "    print(\"el numero \",x,\" es multiplo de\", y,\".\")\n",
        "  else:\n",
        "    print(\"el numero \",x,\" no es multiplo de\", y,\".\")\n",
        "else:\n",
        "  if y % x == 0:\n",
        "    print(y,\" es multiplo de \",x)\n",
        "  else:\n",
        "    print(y, \"no es múltiplo de\", x)"
      ],
      "metadata": {
        "colab": {
          "base_uri": "https://localhost:8080/"
        },
        "id": "g-ROmi9_HDuj",
        "outputId": "61a722df-ce97-480b-af9a-a0bec9ed6c1c"
      },
      "execution_count": null,
      "outputs": [
        {
          "output_type": "stream",
          "name": "stdout",
          "text": [
            "Introduce dos numeros enteros positivos\n",
            "Introduce un número entero positivo: 88\n",
            "Introduce otro número entero positivo: 44\n",
            "el numero  88  es multiplo de 44 .\n"
          ]
        }
      ]
    },
    {
      "cell_type": "code",
      "source": [
        "letra = input(\"Introduce una letra: \")\n",
        "if len(letra) == 1 and letra.isalpha():\n",
        "  if letra.lower() in \"aeiou\":\n",
        "    print(\"La letra que has introducido es una vocal\")\n",
        "  else:\n",
        "    print(\"La letra que has introducido no es una vocal\")\n",
        "else:\n",
        "  print(\"Has introducido más de un caracter o un caracter que no es una letra\")"
      ],
      "metadata": {
        "colab": {
          "base_uri": "https://localhost:8080/"
        },
        "id": "PRrFz1fLN57L",
        "outputId": "d4f6f665-4f0e-481c-d17e-26a5698935cd"
      },
      "execution_count": 21,
      "outputs": [
        {
          "output_type": "stream",
          "name": "stdout",
          "text": [
            "Introduce una letra: 9\n",
            "Has introducido más de un caracter o un caracter que no es una letra\n"
          ]
        }
      ]
    },
    {
      "cell_type": "markdown",
      "source": [
        "Pyratilla hizo un formulario para que los interesados en formar parte de su tripulación rellenaran y así poder evitarse más de una entrevista innecesaria.\n",
        "\n",
        "Ahora es momento de filtrar las convocatorias:\n",
        "\n",
        "    El nombre debe empezar por mayúscula. Si es un nombre compuesto, entonces todos deben empezar por mayúscula.\n",
        "    La edad debe ser mayor o igual a 16 y menor o igual a 40.\n",
        "    El hobby indicado debe tener más de 10 caracteres.\n",
        "    La casilla del sueño no puede haber sido dejada en blanco.\n",
        "\n",
        "Ayuda a Pyratilla a crear este filtro para descartar solicitudes que no cumplan estos requisitos."
      ],
      "metadata": {
        "id": "ozRyy7iZQNmb"
      }
    },
    {
      "cell_type": "code",
      "source": [
        "# Entrada de datos (puede ser reemplazada por input() si quieres hacerlo interactivo)\n",
        "name = input(\"Introduce tu nombre: \").strip()\n",
        "age_input = input(\"Introduce tu edad: \").strip()\n",
        "hobby = input(\"Introduce tu hobby: \").strip()\n",
        "dream = input(\"Introduce tu sueño: \").strip()\n",
        "\n",
        "# Conversión segura de la edad a entero\n",
        "try:\n",
        "    age = int(age_input)\n",
        "except ValueError:\n",
        "    age = -1  # valor imposible para forzar fallo en validación\n",
        "\n",
        "# Flags de validación\n",
        "conditionName = False\n",
        "conditionAge = False\n",
        "conditionHobby = False\n",
        "conditionDream = False\n",
        "\n",
        "# Validación de nombre (no vacío y con todas las palabras en mayúscula inicial)\n",
        "if name and name.istitle():\n",
        "    conditionName = True\n",
        "\n",
        "# Validación de edad entre 16 y 40 (ambos incluidos)\n",
        "if 16 <= age <= 40:\n",
        "    conditionAge = True\n",
        "\n",
        "# Validación de hobby (más de 10 caracteres)\n",
        "if len(hobby) > 10:\n",
        "    conditionHobby = True\n",
        "\n",
        "# Validación de sueño (no vacío después de quitar espacios)\n",
        "if dream.strip():\n",
        "    conditionDream = True\n",
        "\n",
        "# Evaluación final\n",
        "if conditionName and conditionAge and conditionHobby and conditionDream:\n",
        "    print(\"✅ Se le concede una entrevista a este solicitante.\")\n",
        "else:\n",
        "    print(\"❌ No cumple los requisitos mínimos para pertenecer a la tripulación de Pyratilla.\")\n",
        "\n",
        "    # Mensajes específicos opcionales\n",
        "    if not conditionName:\n",
        "        print(\"✘ El nombre no es válido (debe empezar por mayúscula en cada palabra).\")\n",
        "    if not conditionAge:\n",
        "        print(\"✘ La edad debe estar entre 16 y 40 años.\")\n",
        "    if not conditionHobby:\n",
        "        print(\"✘ El hobby debe tener más de 10 caracteres.\")\n",
        "    if not conditionDream:\n",
        "        print(\"✘ El campo 'sueño' no puede estar vacío.\")\n"
      ],
      "metadata": {
        "id": "FmbBJ8S4Qths"
      },
      "execution_count": null,
      "outputs": []
    }
  ]
}