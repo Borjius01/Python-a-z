{
  "nbformat": 4,
  "nbformat_minor": 0,
  "metadata": {
    "colab": {
      "provenance": [],
      "authorship_tag": "ABX9TyP9Jc8LxqEMX+dmXKMCQQVE",
      "include_colab_link": true
    },
    "kernelspec": {
      "name": "python3",
      "display_name": "Python 3"
    },
    "language_info": {
      "name": "python"
    }
  },
  "cells": [
    {
      "cell_type": "markdown",
      "metadata": {
        "id": "view-in-github",
        "colab_type": "text"
      },
      "source": [
        "<a href=\"https://colab.research.google.com/github/Borjius01/Python-a-z/blob/main/tarea4tema3.ipynb\" target=\"_parent\"><img src=\"https://colab.research.google.com/assets/colab-badge.svg\" alt=\"Open In Colab\"/></a>"
      ]
    },
    {
      "cell_type": "markdown",
      "source": [
        "Vamos a pedirle al usuario su año de nacimiento y el año actual y le vamos a impirmir por pantalla su edad\n"
      ],
      "metadata": {
        "id": "JyOowTCjLlox"
      }
    },
    {
      "cell_type": "code",
      "source": [
        "year = int(input(\"Año de nacimiento: \"))\n",
        "this_year= int(input(\"Introduce el año actual: \"))\n",
        "age = this_year - year\n",
        "print(\"En el año {} tienes {} años\".format(this_year, age))"
      ],
      "metadata": {
        "colab": {
          "base_uri": "https://localhost:8080/"
        },
        "id": "kZJexJELLv0C",
        "outputId": "ced09038-de4c-46d5-c257-f7ee225207a8"
      },
      "execution_count": 17,
      "outputs": [
        {
          "output_type": "stream",
          "name": "stdout",
          "text": [
            "Año de nacimiento: 1988\n",
            "Introduce el año actual: 2025\n",
            "En el año 2025 tienes 37 años\n"
          ]
        }
      ]
    }
  ]
}