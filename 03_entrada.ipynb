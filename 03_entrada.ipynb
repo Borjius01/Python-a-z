{
  "nbformat": 4,
  "nbformat_minor": 0,
  "metadata": {
    "colab": {
      "provenance": [],
      "include_colab_link": true
    },
    "kernelspec": {
      "name": "python3",
      "display_name": "Python 3"
    }
  },
  "cells": [
    {
      "cell_type": "markdown",
      "metadata": {
        "id": "view-in-github",
        "colab_type": "text"
      },
      "source": [
        "<a href=\"https://colab.research.google.com/github/Borjius01/Python-a-z/blob/main/03_entrada.ipynb\" target=\"_parent\"><img src=\"https://colab.research.google.com/assets/colab-badge.svg\" alt=\"Open In Colab\"/></a>"
      ]
    },
    {
      "cell_type": "markdown",
      "metadata": {
        "id": "gp1d5MqrHYHb"
      },
      "source": [
        "# Reclutando tripulantes\n",
        "\n",
        "Pyratilla considera que ya va siendo hora de encontrar a su primer miembro de la tripulación. Para ello, lo primero que decide hacer es un anuncio."
      ]
    },
    {
      "cell_type": "code",
      "metadata": {
        "id": "ElrNTAgjHU1w"
      },
      "source": [
        "title = \"se busca tripulante\"\n",
        "message = \"se ofrece puesto en la tripulación del capitán pyratilla para llevar a cabo labores de marinero. comida y bebida garantizada a lo largo de toda la aventura.\"\n",
        "contact = \"para más información, ir al puerto y buscar al capitán pyratilla, ya famoso en este pueblo costero (evitar preguntar en el casino).\""
      ],
      "execution_count": null,
      "outputs": []
    },
    {
      "cell_type": "markdown",
      "metadata": {
        "id": "PqXAkMAPI5Ra"
      },
      "source": [
        "Ayuda a Pyratilla a que el anuncio le quede bien:\n",
        "\n",
        "- El título debe estar todo en mayúsculas\n",
        "- El principio de cada frase debe estar en mayúscula\n",
        "- Cada vez que hay un cambio de variable, debe haber un salto de línea\n",
        "- El nombre de Pyratilla debe estar en mayúscula\n",
        "\n",
        "Pista: puede que te sea más fácil si guardas las dos frases de la variable `message` en dos variables diferentes y una vez las tengas listas, las vuelves a unir."
      ]
    },
    {
      "cell_type": "code",
      "metadata": {
        "id": "B7bhMPpSJY0V"
      },
      "source": [],
      "execution_count": null,
      "outputs": []
    },
    {
      "cell_type": "markdown",
      "metadata": {
        "id": "bWD5cnUtL6NB"
      },
      "source": [
        "## El formulario para los interesados en el anuncio\n",
        "\n",
        "Para evitar hacer entrevistas innecesarias, Pyratilla decide hacer un formulario para que cualquier interesado lo rellene y si pasa esa prueba, entonces le realizará una entrevista.\n",
        "\n",
        "Ayuda a Pyratilla a crear un formulario donde se pida amablemente el nombre, la edad, el hobby y el sueño al interesado en formar parte de la tripulación del capitán Pyratilla."
      ]
    },
    {
      "cell_type": "code",
      "metadata": {
        "id": "t_68axrQL8Yj"
      },
      "source": [],
      "execution_count": null,
      "outputs": []
    },
    {
      "cell_type": "code",
      "metadata": {
        "id": "QjSJuMcxNJW5"
      },
      "source": [],
      "execution_count": null,
      "outputs": []
    },
    {
      "cell_type": "code",
      "metadata": {
        "id": "D7zMht_FNUQH"
      },
      "source": [],
      "execution_count": null,
      "outputs": []
    },
    {
      "cell_type": "code",
      "metadata": {
        "id": "GTyVOiWZNa-3"
      },
      "source": [],
      "execution_count": null,
      "outputs": []
    }
  ]
}