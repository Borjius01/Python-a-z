{
  "nbformat": 4,
  "nbformat_minor": 0,
  "metadata": {
    "colab": {
      "provenance": [],
      "authorship_tag": "ABX9TyP7bplOKo0cc7PA9ZalC+Nd",
      "include_colab_link": true
    },
    "kernelspec": {
      "name": "python3",
      "display_name": "Python 3"
    },
    "language_info": {
      "name": "python"
    }
  },
  "cells": [
    {
      "cell_type": "markdown",
      "metadata": {
        "id": "view-in-github",
        "colab_type": "text"
      },
      "source": [
        "<a href=\"https://colab.research.google.com/github/Borjius01/Python-a-z/blob/main/tarea2tema3.ipynb\" target=\"_parent\"><img src=\"https://colab.research.google.com/assets/colab-badge.svg\" alt=\"Open In Colab\"/></a>"
      ]
    },
    {
      "cell_type": "code",
      "source": [
        "s1 = \"Había una vez, \"\n",
        "s2 = \"un barquito chiquitito \"\n",
        "s3 = \"que no podía, \"\n",
        "s4 = \"que no podía navegar.\"\n",
        "song = (s1 +s2)*2 + (s3)*2 + s4\n",
        "print(song)"
      ],
      "metadata": {
        "colab": {
          "base_uri": "https://localhost:8080/"
        },
        "id": "WlZOp_lLUYxg",
        "outputId": "70d9b0cc-72b4-4db2-f4be-35113696f821"
      },
      "execution_count": null,
      "outputs": [
        {
          "output_type": "stream",
          "name": "stdout",
          "text": [
            "Había una vez, un barquito chiquitito Había una vez, un barquito chiquitito que no podía, que no podía, que no podía navegar.\n"
          ]
        }
      ]
    },
    {
      "cell_type": "code",
      "source": [
        "s1 = \"Érase un hombre a una nariz pegado,\"\n",
        "s2 = \"Érase una nariz superlativa,\"\n",
        "s3 = \"Érase una alquitara media viva,\"\n",
        "s4 = \"Érase un peje espada ma barbado;\"\n",
        "print((s1 + \"\\n\")+(s2 + \"\\n\")+(s3+ \"\\n\")+s4)"
      ],
      "metadata": {
        "colab": {
          "base_uri": "https://localhost:8080/"
        },
        "id": "Nl_eRVoWVOSv",
        "outputId": "220d985e-c5e2-47a2-dec1-1085a834bd64"
      },
      "execution_count": null,
      "outputs": [
        {
          "output_type": "stream",
          "name": "stdout",
          "text": [
            "Érase un hombre a una nariz pegado,\n",
            "Érase una nariz superlativa,\n",
            "Érase una alquitara media viva,\n",
            "Érase un peje espada ma barbado;\n"
          ]
        }
      ]
    },
    {
      "cell_type": "code",
      "source": [
        "s = \"me encantan las matemáticas\"\n",
        "print(s.upper())"
      ],
      "metadata": {
        "colab": {
          "base_uri": "https://localhost:8080/"
        },
        "id": "0deMXNeHXJzT",
        "outputId": "21e8be5e-0da4-4e5c-8599-29d1e55b7e25"
      },
      "execution_count": null,
      "outputs": [
        {
          "output_type": "stream",
          "name": "stdout",
          "text": [
            "ME ENCANTAN LAS MATEMÁTICAS\n"
          ]
        }
      ]
    },
    {
      "cell_type": "code",
      "source": [
        "s = \"Mi pasión por el chocolate es superior a mis fuerzas\"\n",
        "len(s)"
      ],
      "metadata": {
        "colab": {
          "base_uri": "https://localhost:8080/"
        },
        "id": "xIboJNTPYXlV",
        "outputId": "68a12445-89c7-4737-dfff-54cd54334535"
      },
      "execution_count": null,
      "outputs": [
        {
          "output_type": "execute_result",
          "data": {
            "text/plain": [
              "52"
            ]
          },
          "metadata": {},
          "execution_count": 10
        }
      ]
    },
    {
      "cell_type": "code",
      "source": [
        "s = \"Mi pasión por el chocolate es superior a mis fuerzas\"\n",
        "s.index(\"chocolate\")\n",
        "len(\"chocolate\")\n",
        "y = 17+9\n",
        "s_sub = s[17:26]\n",
        "print(s_sub)\n"
      ],
      "metadata": {
        "colab": {
          "base_uri": "https://localhost:8080/"
        },
        "id": "BbzS1zyOaFgz",
        "outputId": "f1150ab6-9242-4529-8fe4-c80f3507d226"
      },
      "execution_count": null,
      "outputs": [
        {
          "output_type": "stream",
          "name": "stdout",
          "text": [
            "chocolate\n"
          ]
        }
      ]
    },
    {
      "cell_type": "code",
      "source": [
        "print(\"Introduce tu nombre: \")\n",
        "nombre = input()"
      ],
      "metadata": {
        "colab": {
          "base_uri": "https://localhost:8080/"
        },
        "id": "iltoL4gOekap",
        "outputId": "9f7902af-a50a-4784-e8c0-3c7516cd8e2b"
      },
      "execution_count": null,
      "outputs": [
        {
          "name": "stdout",
          "output_type": "stream",
          "text": [
            "Introduce tu nombre: \n",
            "Borja\n"
          ]
        }
      ]
    },
    {
      "cell_type": "code",
      "source": [
        "print(\"Introduce tu apellido: \")\n",
        "apellido = input()"
      ],
      "metadata": {
        "id": "nz6rR5Joe15N",
        "colab": {
          "base_uri": "https://localhost:8080/"
        },
        "outputId": "21f6e6c4-3e73-4d22-82f0-275fcf6d331c"
      },
      "execution_count": 27,
      "outputs": [
        {
          "name": "stdout",
          "output_type": "stream",
          "text": [
            "Introuce tu apellido: \n",
            "Barberan\n"
          ]
        }
      ]
    },
    {
      "cell_type": "code",
      "source": [
        "print(\"Introduce tu edad: \")\n",
        "edad = int(input())\n"
      ],
      "metadata": {
        "colab": {
          "base_uri": "https://localhost:8080/"
        },
        "id": "yuilRurHsksi",
        "outputId": "00409697-6792-4792-d406-5195554ec878"
      },
      "execution_count": 28,
      "outputs": [
        {
          "name": "stdout",
          "output_type": "stream",
          "text": [
            "Introduce tu edad: \n",
            "36\n"
          ]
        }
      ]
    },
    {
      "cell_type": "code",
      "source": [
        "print(\"Introduce tu ciudad: \")\n",
        "ciudad = input()"
      ],
      "metadata": {
        "colab": {
          "base_uri": "https://localhost:8080/"
        },
        "id": "LhUJiXgGtOA0",
        "outputId": "641b0958-659a-4993-90ff-deaefa68237f"
      },
      "execution_count": 29,
      "outputs": [
        {
          "name": "stdout",
          "output_type": "stream",
          "text": [
            "Introduce tu ciudad: \n",
            "Ciudad Real\n"
          ]
        }
      ]
    },
    {
      "cell_type": "code",
      "source": [
        "print(\"Su nombre es \"+ nombre + \" \"+ apellido +\", \"+ \"tiene \"+ str(edad) + \" años, \" + \"y vive en \" + ciudad + \".\")"
      ],
      "metadata": {
        "id": "-RF5W1MgeNG1",
        "colab": {
          "base_uri": "https://localhost:8080/"
        },
        "outputId": "c3a3c282-c752-4e16-ec99-5e2aebe3787b"
      },
      "execution_count": 33,
      "outputs": [
        {
          "output_type": "stream",
          "name": "stdout",
          "text": [
            "Su nombre es Borja Barberan, tiene 36 años, y vive en Ciudad Real.\n"
          ]
        }
      ]
    },
    {
      "cell_type": "code",
      "source": [],
      "metadata": {
        "id": "Fv9VrSpMteqH"
      },
      "execution_count": null,
      "outputs": []
    }
  ]
}