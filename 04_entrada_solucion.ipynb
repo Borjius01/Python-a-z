{
  "nbformat": 4,
  "nbformat_minor": 0,
  "metadata": {
    "colab": {
      "provenance": [],
      "include_colab_link": true
    },
    "kernelspec": {
      "name": "python3",
      "display_name": "Python 3"
    }
  },
  "cells": [
    {
      "cell_type": "markdown",
      "metadata": {
        "id": "view-in-github",
        "colab_type": "text"
      },
      "source": [
        "<a href=\"https://colab.research.google.com/github/Borjius01/Python-a-z/blob/main/04_entrada_solucion.ipynb\" target=\"_parent\"><img src=\"https://colab.research.google.com/assets/colab-badge.svg\" alt=\"Open In Colab\"/></a>"
      ]
    },
    {
      "cell_type": "markdown",
      "metadata": {
        "id": "ACNQvDsGif9k"
      },
      "source": [
        "# Filtrando solicitudes\n",
        "\n",
        "Pyratilla hizo un formulario para que los interesados en formar parte de su tripulación rellenaran y así poder evitarse más de una entrevista innecesaria.\n",
        "\n",
        "Ahora es momento de filtrar las convocatorias:\n",
        "\n",
        "- El nombre debe empezar por mayúscula. Si es un nombre compuesto, entonces todos deben empezar por mayúscula.\n",
        "- La edad debe ser mayor o igual a 16 y menor o igual a 40.\n",
        "- El hobby indicado debe tener más de 10 caracteres.\n",
        "- La casilla del sueño no puede haber sido dejada en blanco.\n",
        "\n",
        "Ayuda a Pyratilla a crear este filtro para descartar solicitudes que no cumplan estos requisitos."
      ]
    },
    {
      "cell_type": "code",
      "metadata": {
        "id": "fWP1neM7iiwT"
      },
      "source": [
        "iterview = False\n",
        "conditionName = False\n",
        "conditionAge = False\n",
        "conditionHobby = False\n",
        "conditionDream = False"
      ],
      "execution_count": null,
      "outputs": []
    },
    {
      "cell_type": "code",
      "metadata": {
        "id": "_HHrKpC1kf8f"
      },
      "source": [
        "if name.find(\" \") == -1:\n",
        "  if name[0].isupper():\n",
        "    conditionName = True\n",
        "else:\n",
        "  if name.istitle():\n",
        "    conditionName = True"
      ],
      "execution_count": null,
      "outputs": []
    },
    {
      "cell_type": "code",
      "metadata": {
        "id": "q75X68Smlgbz"
      },
      "source": [
        "if (age >= 16 and age <= 40):\n",
        "  conditionAge = True"
      ],
      "execution_count": null,
      "outputs": []
    },
    {
      "cell_type": "code",
      "metadata": {
        "id": "PhZhaMKyluG3"
      },
      "source": [
        "if len(hobby) > 10:\n",
        "  conditionHobby = True"
      ],
      "execution_count": null,
      "outputs": []
    },
    {
      "cell_type": "code",
      "metadata": {
        "id": "PI9CQwqAl1OX"
      },
      "source": [
        "if dream != \"\":\n",
        "  conditionDream = True"
      ],
      "execution_count": null,
      "outputs": []
    },
    {
      "cell_type": "code",
      "metadata": {
        "colab": {
          "base_uri": "https://localhost:8080/"
        },
        "id": "_KHmbwajmBKT",
        "outputId": "c10ba09b-2813-4ebb-ba00-fc83918745e2"
      },
      "source": [
        "if conditionName and conditionAge and conditionHobby and conditionDream:\n",
        "  iterview = True\n",
        "  print(\"Se le concede una entrevista a este solicitante.\")\n",
        "else:\n",
        "  print(\"No cumple los requisitos mínimos para pertenecer a la tripulación de Pyratilla.\")"
      ],
      "execution_count": null,
      "outputs": [
        {
          "output_type": "stream",
          "text": [
            "No cumple los requisitos mínimos para pertenecer a la tripulación de Pyratilla.\n"
          ],
          "name": "stdout"
        }
      ]
    }
  ]
}