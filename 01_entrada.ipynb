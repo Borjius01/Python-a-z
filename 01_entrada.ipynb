{
  "cells": [
    {
      "cell_type": "markdown",
      "metadata": {
        "colab_type": "text",
        "id": "view-in-github"
      },
      "source": [
        "<a href=\"https://colab.research.google.com/github/Borjius01/Python-a-z/blob/main/01_entrada.ipynb\" target=\"_parent\"><img src=\"https://colab.research.google.com/assets/colab-badge.svg\" alt=\"Open In Colab\"/></a>"
      ]
    },
    {
      "cell_type": "markdown",
      "metadata": {
        "id": "FozkaU1q4Q5W"
      },
      "source": [
        "# Presentaciones\n",
        "\n",
        "Pyratilla ha decidido escribir una ficha de presentación donde constan sus datos:"
      ]
    },
    {
      "cell_type": "code",
      "execution_count": null,
      "metadata": {
        "id": "mGwh0HUp4aoY"
      },
      "outputs": [],
      "source": [
        "name = \"Pyratilla\"\n",
        "age = 17\n",
        "pet = True\n",
        "pet_name = \"Pyo\"\n",
        "ocupation = \"Pirata\" # Y en cuanto tenga tripulación, seré capitán\n",
        "coins = 0"
      ]
    },
    {
      "cell_type": "markdown",
      "metadata": {
        "id": "ADATerB05qOf"
      },
      "source": [
        "# Empieza la aventura\n",
        "\n",
        "A pesar de haber sido un poco problemático, los habitantes del pueblo natal de Pyratilla le han acabado cogiendo cariño, hasta tal punto que entre todos han decidido hacerle un regalo de despedida: darle un total de 100 monedas para que empiece su viaje tranquilo y pueda comprar un barco en condiciones en el pueblo vecino.\n",
        "\n",
        "Con lo cual, Pyratilla muy agradecido empieza su aventura poniendo rumbo al pueblo vecino, no sin antes hacer una ligera modificación en su ficha de presentación:"
      ]
    },
    {
      "cell_type": "code",
      "execution_count": 1,
      "metadata": {
        "id": "twYRchmI6FU1"
      },
      "outputs": [],
      "source": [
        "name = \"Pyratilla\"\n",
        "age = 17    # Aunque parezca más joven\n",
        "pet = True  # Tengo un loro llamado Pyo\n",
        "pet_name = \"Pyo\"    # Es un loro muy simpático\n",
        "ocupation = \"Pirata\"    # Y en cuanto tenga tripulación, seré capitán\n",
        "coins = 100           "
      ]
    }
  ],
  "metadata": {
    "colab": {
      "include_colab_link": true,
      "provenance": []
    },
    "kernelspec": {
      "display_name": "ENV1",
      "language": "python",
      "name": "python3"
    },
    "language_info": {
      "codemirror_mode": {
        "name": "ipython",
        "version": 3
      },
      "file_extension": ".py",
      "mimetype": "text/x-python",
      "name": "python",
      "nbconvert_exporter": "python",
      "pygments_lexer": "ipython3",
      "version": "3.13.2"
    }
  },
  "nbformat": 4,
  "nbformat_minor": 0
}
