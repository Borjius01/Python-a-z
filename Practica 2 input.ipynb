{
  "nbformat": 4,
  "nbformat_minor": 0,
  "metadata": {
    "colab": {
      "provenance": [],
      "authorship_tag": "ABX9TyP1NbpD8SblNFg0y5DhNAKJ",
      "include_colab_link": true
    },
    "kernelspec": {
      "name": "python3",
      "display_name": "Python 3"
    },
    "language_info": {
      "name": "python"
    }
  },
  "cells": [
    {
      "cell_type": "markdown",
      "metadata": {
        "id": "view-in-github",
        "colab_type": "text"
      },
      "source": [
        "<a href=\"https://colab.research.google.com/github/Borjius01/Python-a-z/blob/main/Practica%202%20input.ipynb\" target=\"_parent\"><img src=\"https://colab.research.google.com/assets/colab-badge.svg\" alt=\"Open In Colab\"/></a>"
      ]
    },
    {
      "cell_type": "code",
      "source": [
        "print((\"Indica el destinatario de la canción\"))\n",
        "name = input(\"Nombre: \")\n",
        "s1= \"¡Cumpleaños feliz!\"\n",
        "s2= \"Te deseamos todos,\"\n",
        "\n",
        "song = (s1 + \"\\n\")*2 + s2.replace(\"todos\", name) + \"\\n\" + s1\n",
        "print(song)"
      ],
      "metadata": {
        "colab": {
          "base_uri": "https://localhost:8080/"
        },
        "id": "Cymb_qOZI-t2",
        "outputId": "4b5c0062-a6cd-43a4-d8cb-cd116f29ecb5"
      },
      "execution_count": 17,
      "outputs": [
        {
          "output_type": "stream",
          "name": "stdout",
          "text": [
            "Indica el destinatario de la canción\n",
            "Nombre: Borja\n",
            "¡Cumpleaños feliz!\n",
            "¡Cumpleaños feliz!\n",
            "Te deseamos Borja,\n",
            "¡Cumpleaños feliz!\n"
          ]
        }
      ]
    }
  ]
}