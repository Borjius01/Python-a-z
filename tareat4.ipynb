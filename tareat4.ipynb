{
  "nbformat": 4,
  "nbformat_minor": 0,
  "metadata": {
    "colab": {
      "provenance": [],
      "authorship_tag": "ABX9TyPYUL3HSxA69RE7LXjDxGom",
      "include_colab_link": true
    },
    "kernelspec": {
      "name": "python3",
      "display_name": "Python 3"
    },
    "language_info": {
      "name": "python"
    }
  },
  "cells": [
    {
      "cell_type": "markdown",
      "metadata": {
        "id": "view-in-github",
        "colab_type": "text"
      },
      "source": [
        "<a href=\"https://colab.research.google.com/github/Borjius01/Python-a-z/blob/main/tareat4.ipynb\" target=\"_parent\"><img src=\"https://colab.research.google.com/assets/colab-badge.svg\" alt=\"Open In Colab\"/></a>"
      ]
    },
    {
      "cell_type": "markdown",
      "source": [
        "Haz que un usuario introduzca un número real y evalúa si dicho número es positivo, negativo o cero. Devuelve\n",
        "por pantalla el resultado en cada caso."
      ],
      "metadata": {
        "id": "P78WY8OJ9jdz"
      }
    },
    {
      "cell_type": "code",
      "source": [
        "num = float(input(\"Introduce un número real: \"))\n",
        "\n",
        "if num > 0:\n",
        "    print(\"El número es positivo\")\n",
        "elif num < 0:\n",
        "    print(\"El número es negativo\")\n",
        "else:\n",
        "    print(\"El número es cero\")"
      ],
      "metadata": {
        "colab": {
          "base_uri": "https://localhost:8080/"
        },
        "id": "vMEtJF_R9nwn",
        "outputId": "d6313886-9afe-4529-d367-a6b53d277396"
      },
      "execution_count": null,
      "outputs": [
        {
          "output_type": "stream",
          "name": "stdout",
          "text": [
            "Introduce un número real: -98\n",
            "El número es negativo\n"
          ]
        }
      ]
    },
    {
      "cell_type": "markdown",
      "source": [
        "Haz que un usuario introduzca su nombre y evalúa con operadores if y else si dicho nombre tiene una\n",
        "longitud mayor a 10 caracteres o no. Devuelve por pantalla el resultado en cada caso"
      ],
      "metadata": {
        "id": "NzsBl698-cw7"
      }
    },
    {
      "cell_type": "code",
      "source": [
        "name = input(\"Introduce tu nombre: \")\n",
        "\n",
        "if len(name) >= 10:\n",
        "    print(\"El nombre tiene más de 10 caracteres\")\n",
        "else:\n",
        "    print(\"El nombre tiene menos de 10 caracteres o menos\")"
      ],
      "metadata": {
        "colab": {
          "base_uri": "https://localhost:8080/"
        },
        "id": "sr5BBlIR-i3u",
        "outputId": "ce34f3c2-daf6-4512-8aca-79886819b38a"
      },
      "execution_count": null,
      "outputs": [
        {
          "output_type": "stream",
          "name": "stdout",
          "text": [
            "Introduce tu nombre: Victor\n",
            "El nombre tiene menos de 10 caracteres o menos\n"
          ]
        }
      ]
    },
    {
      "cell_type": "markdown",
      "source": [
        "Realiza el ejercicio anterior con el uso del operador ternario"
      ],
      "metadata": {
        "id": "9WFpHrj8_TR2"
      }
    },
    {
      "cell_type": "code",
      "source": [
        "name = input(\"Introduce tu nombre: \")\n",
        "mayor_10 = \"El nombre tiene mas de diez caracteres\"\n",
        "menos_10 = \"El nombre tiene menos de diez caracteres\"\n",
        "\n",
        "print(mayor_10) if len(name) >= 10 else print(menos_10)"
      ],
      "metadata": {
        "colab": {
          "base_uri": "https://localhost:8080/"
        },
        "id": "WBVhLiyO_XeI",
        "outputId": "22e35590-66e5-4aeb-9215-9d954490718a"
      },
      "execution_count": null,
      "outputs": [
        {
          "output_type": "stream",
          "name": "stdout",
          "text": [
            "Introduce tu nombre: Paco\n",
            "El nombre tiene menos de diez caracteres\n"
          ]
        }
      ]
    },
    {
      "cell_type": "markdown",
      "source": [
        "Haz que un usuario introduzca dos números enteros positivos. Comprueba si el primer número introducido\n",
        "por el usuario es mayor o igual que el segundo número introducido por el usuario. Devuelve por pantalla el\n",
        "resultado en cada caso.\n",
        "PISTA: Asegúrate de hacer uso de la función int() donde pertoque"
      ],
      "metadata": {
        "id": "MDarpkyXC5-N"
      }
    },
    {
      "cell_type": "code",
      "source": [
        "x = int(input(\"Introduce un número entero positivo: \"))\n",
        "y = int(input(\"Introduce otro número entero positivo: \"))\n",
        "\n",
        "if x >= y:\n",
        "    print(\"El numero \", x, \" es mayor o igual que \", y,\".\")\n",
        "else:\n",
        "    print(\"El numero \", y,\" es mayor que\", x,\".\")"
      ],
      "metadata": {
        "colab": {
          "base_uri": "https://localhost:8080/"
        },
        "id": "Dyr477dSC7Vo",
        "outputId": "6bedf712-0254-471b-850a-ede82036b20e"
      },
      "execution_count": null,
      "outputs": [
        {
          "output_type": "stream",
          "name": "stdout",
          "text": [
            "Introduce un número entero positivo: 8\n",
            "Introduce otro número entero positivo: 9\n",
            "El numero  9  es mayor que 8 .\n"
          ]
        }
      ]
    },
    {
      "cell_type": "markdown",
      "source": [
        "Haz que un usuario introduzca dos números enteros positivos. Suponiendo que el primer número introducido\n",
        "por el usuario es mayor o igual al segundo número introducido por el usuario, comprueba que la división del\n",
        "primer número entre el segundo número es exacta.\n",
        "En caso de la división ser exacta, devuelve el cociente por pantalla e indica que la división en efecto es exacta.\n",
        "En caso de la división no ser exacta, devuelve el cociente y el resto por pantalla e indica que la división entre\n",
        "los dos números no es exacta"
      ],
      "metadata": {
        "id": "pmUr42_DGcTp"
      }
    },
    {
      "cell_type": "code",
      "source": [
        "x = int(input(\"Introduce un número entero positivo: \"))\n",
        "y = int(input(\"Introduce otro número entero positivo: \"))\n",
        "\n",
        "if x >= y and x % y == 0:\n",
        "    print(\"La división es exacta. El cociente es\", x // y)\n",
        "elif x >=y and x % y != 0:\n",
        "    print(\"La división no es exacta. El cociente es\", x // y,\" y el resto es\", x % y, \".\")"
      ],
      "metadata": {
        "colab": {
          "base_uri": "https://localhost:8080/"
        },
        "id": "Qda_t9_FGhIJ",
        "outputId": "afbec769-f168-4b1b-e52c-62d731b29196"
      },
      "execution_count": null,
      "outputs": [
        {
          "output_type": "stream",
          "name": "stdout",
          "text": [
            "Introduce un número entero positivo: 8\n",
            "Introduce otro número entero positivo: 2\n",
            "La división es exacta. El cociente es 4\n"
          ]
        }
      ]
    },
    {
      "cell_type": "markdown",
      "source": [
        "Fusiona lo hecho en los ejercicios 4 y 5 para que\n",
        "1. Un usuario introduzca dos números enteros por pantalla.\n",
        "2. Comprobar si el primer número es mayor o igual al segundo número introducido por el usuario. Devolver\n",
        "por pantalla en que caso nos encontramos.\n",
        "3. Hacer la división entera pertinente en cada caso.\n",
        "4. Si la división es exacta, entonces devolver por pantalla el cociente e indicar que la división es exacta.\n",
        "Si la división no es exacta, entonces devolver por pantalla el cociente y el resto e indicar que la división\n",
        "realizada no es exacta."
      ],
      "metadata": {
        "id": "d1xS4J7JP5TM"
      }
    },
    {
      "cell_type": "code",
      "source": [
        "x = int(input(\"Introduce un número entero positivo: \"))\n",
        "y = int(input(\"Introduce otro número entero positivo: \"))\n",
        "\n",
        "if x >= y:\n",
        "    print(\"El numero \", x, \" es mayor o igual que \", y,\".\")\n",
        "    if x >= y and x % y == 0:\n",
        "        print(\"La división es exacta. El cociente es\", x // y)\n",
        "    elif x >=y and x % y != 0:\n",
        "        print(\"La división no es exacta. El cociente es\", x // y,\" y el resto es\", x % y, \".\")\n",
        "else:\n",
        "    print(\"El numero \", y,\" es mayor que\", x,\".\")\n",
        "\n"
      ],
      "metadata": {
        "colab": {
          "base_uri": "https://localhost:8080/"
        },
        "id": "YTRChRaPP_kY",
        "outputId": "f7be509b-465a-4bcc-dab7-7d542f0dd418"
      },
      "execution_count": null,
      "outputs": [
        {
          "output_type": "stream",
          "name": "stdout",
          "text": [
            "Introduce un número entero positivo: 98\n",
            "Introduce otro número entero positivo: 66\n",
            "El numero  98  es mayor o igual que  66 .\n",
            "La división no es exacta. El cociente es 1  y el resto es 32 .\n"
          ]
        }
      ]
    },
    {
      "cell_type": "markdown",
      "source": [
        "Haz que un usuario introduzca dos números enteros positivos. Comprueba si el mayor es múltiplo del menor.\n",
        "Devuelve por pantalla el resultado en cada caso."
      ],
      "metadata": {
        "id": "P--ZO2mDVwQn"
      }
    },
    {
      "cell_type": "code",
      "source": [
        "print(\"Introduce dos numeros enteros positivos\")\n",
        "x = int(input(\"Introduce un número entero positivo: \"))\n",
        "y = int(input(\"Introduce otro número entero positivo: \"))\n",
        "\n",
        "if x >= y:\n",
        "    if x % y == 0:\n",
        "        print(x, \"es múltiplo de\", y)\n",
        "    else:\n",
        "        print(x, \"no es múltiplo de\", y)\n",
        "else:\n",
        "    if y % x == 0:\n",
        "        print(y, \"es múltiplo de\", x)\n",
        "    else:\n",
        "        print(y, \"no es múltiplo de\", x)\n",
        "\n"
      ],
      "metadata": {
        "colab": {
          "base_uri": "https://localhost:8080/"
        },
        "id": "hfQn7vVAWH7o",
        "outputId": "ae123c8d-9cc9-4758-b681-fc53ee7d36bd"
      },
      "execution_count": null,
      "outputs": [
        {
          "output_type": "stream",
          "name": "stdout",
          "text": [
            "Introduce un número entero positivo: 58\n",
            "Introduce otro número entero positivo: 12\n",
            "58 no es múltiplo de 12\n"
          ]
        }
      ]
    },
    {
      "cell_type": "markdown",
      "source": [
        "Haz que un usuario introduzca una palabra y comprueba si dicha palabra empieza por mayúscula. Devuelve\n",
        "por pantalla el resultado en cada caso.\n"
      ],
      "metadata": {
        "id": "ieociHR8bsS9"
      }
    },
    {
      "cell_type": "code",
      "source": [
        "word = input(\"Introduce una palabra: \")\n",
        "\n",
        "if word.find(\" \") == -1:\n",
        "    if word[0].isupper():\n",
        "          print(\"La palabra que has introducido empieza por mayúscula\")\n",
        "    else:\n",
        "          print(\"La palabra que has introducido empieza por minúscula\")\n",
        "else:\n",
        "    print(\"Has introducido más de una palabra\")"
      ],
      "metadata": {
        "colab": {
          "base_uri": "https://localhost:8080/"
        },
        "id": "2CReouuubw4j",
        "outputId": "56c78c69-3df5-437a-dded-a58a381ba339"
      },
      "execution_count": null,
      "outputs": [
        {
          "output_type": "stream",
          "name": "stdout",
          "text": [
            "Introduce una palabra: e\n",
            "La palabra que has introducido empieza por minúscula\n"
          ]
        }
      ]
    },
    {
      "cell_type": "markdown",
      "source": [
        "Haz un usuario introduza una letra y comprueba si se trata de una vocal. Si el usuario introduce un string\n",
        "de más de un carácter, infórmale de que no se puede procesar el dato, pues debe tener como máximo tamaño\n",
        "1.\n",
        "PISTA: Convierte la letra introducida a minúsculas para tener que realizar menos comprobaciones"
      ],
      "metadata": {
        "id": "eIKZLpofhVAe"
      }
    },
    {
      "cell_type": "code",
      "source": [
        "letra = input(\"Introduce una letra: \")\n",
        "\n",
        "if len(letra) == 1:\n",
        "    if letra.lower() in \"aeiou\":\n",
        "        print(\"La letra que has introducido es una vocal\")\n",
        "    else:\n",
        "        print(\"La letra que has introducido no es una vocal\")\n",
        "else:\n",
        "    print(\"Has introducido más de una letra\")\n"
      ],
      "metadata": {
        "colab": {
          "base_uri": "https://localhost:8080/"
        },
        "id": "FIoTrK6Zh-De",
        "outputId": "4277f106-eb37-4be0-e294-a260bfcd4d76"
      },
      "execution_count": null,
      "outputs": [
        {
          "output_type": "stream",
          "name": "stdout",
          "text": [
            "Introduce una letra: o\n",
            "La letra que has introducido es una vocal\n"
          ]
        }
      ]
    },
    {
      "cell_type": "markdown",
      "source": [
        "Dada una ecuación de segundo grado ax2 + bx + c = 0, sabemos que las soluciones vienen dadas por\n",
        "x = −b ±\n",
        "p\n",
        "b2 − 4ac\n",
        "2a\n",
        "siempre y cuando a 6= 0.\n",
        "El número de soluciones dentro del conjunto de los números reales R viene dado en función del signo\n",
        "que tome el discriminante, 4 = b2 \u0012 − 4ac. Si 4 > 0, entonces tendremos dos soluciones diferentes en R\n",
        "x = −b+\n",
        "p\n",
        "4\n",
        "2a y x = −b−\n",
        "p\n",
        "4\n",
        "2a\n",
        "\u0013\n",
        ". Si 4 = 0, entonces tendremos dos soluciones que serán iguales\n",
        "􀀀\n",
        "x = −b\n",
        "2a\n",
        "\u0001\n",
        ". Si\n",
        "4 < 0, entonces no existe solución dentro del conjunto de los números reales para esta ecuación de segundo\n",
        "grado.\n",
        "Con toda esta información, haz que el usuario introduzca los valores de los coeficientes a, b, c. Con ello,\n",
        "1. Comprueba que el coeficiente a es distinto de 0\n",
        "2. En función del discriminante, calcula cuántas soluciones va a tener la ecuación de segundo grado\n",
        "ax2 + bx + c = 0.\n",
        "3. Devuelve por pantalla el resultado en cada caso (tanto el número de soluciones en los números reales\n",
        "como el valor de éstas).\n",
        "PISTA: Para calcular la raíz cuadrada, vas a necesitar la función math.sqrt() de la librería math."
      ],
      "metadata": {
        "id": "XeQhN7i_wsLY"
      }
    },
    {
      "cell_type": "code",
      "source": [
        "import math\n",
        "\n",
        "# Pedir los coeficientes al usuario\n",
        "a = float(input(\"Introduce el valor de a: \"))\n",
        "b = float(input(\"Introduce el valor de b: \"))\n",
        "c = float(input(\"Introduce el valor de c: \"))\n",
        "\n",
        "# Verificar si es realmente una ecuación de segundo grado\n",
        "if a == 0:\n",
        "    print(\"No es una ecuación de segundo grado porque a = 0.\")\n",
        "else:\n",
        "    discriminante = b**2 - 4*a*c\n",
        "\n",
        "    if discriminante > 0:\n",
        "        x1 = (-b + math.sqrt(discriminante)) / (2*a)\n",
        "        x2 = (-b - math.sqrt(discriminante)) / (2*a)\n",
        "        print(\"La ecuación tiene dos soluciones reales distintas:\")\n",
        "        print(\"x1 =\", x1)\n",
        "        print(\"x2 =\", x2)\n",
        "\n",
        "    elif discriminante == 0:\n",
        "        x = -b / (2*a)\n",
        "        print(\"La ecuación tiene una única solución real (doble raíz):\")\n",
        "        print(\"x =\", x)\n",
        "\n",
        "    else:\n",
        "        print(\"La ecuación no tiene soluciones reales (el discriminante es negativo).\")\n"
      ],
      "metadata": {
        "id": "a8X4e9a0CHWG",
        "colab": {
          "base_uri": "https://localhost:8080/"
        },
        "outputId": "b92ac400-d672-49e3-aac5-cef5d44f102a"
      },
      "execution_count": null,
      "outputs": [
        {
          "output_type": "stream",
          "name": "stdout",
          "text": [
            "Introduce el valor de a: 5\n",
            "Introduce el valor de b: 9\n",
            "Introduce el valor de c: 4\n",
            "La ecuación tiene dos soluciones reales distintas:\n",
            "x1 = -0.8\n",
            "x2 = -1.0\n"
          ]
        }
      ]
    },
    {
      "cell_type": "markdown",
      "source": [],
      "metadata": {
        "id": "ZVfcvUmrwt68"
      }
    }
  ]
}